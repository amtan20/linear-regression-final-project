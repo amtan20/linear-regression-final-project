{
 "cells": [
  {
   "cell_type": "code",
   "execution_count": 38,
   "metadata": {},
   "outputs": [],
   "source": [
    "import numpy as np\n",
    "import pandas as pd\n",
    "import matplotlib.pyplot as plt\n",
    "%config InlineBackend.figure_format = 'retina' # much faster than svg when generating lots of points\n",
    "import statsmodels.formula.api as smf\n",
    "import statsmodels.stats.anova as sa\n",
    "from statsmodels.stats.outliers_influence import variance_inflation_factor\n",
    "from statsmodels.stats.diagnostic import het_breuschpagan\n",
    "\n",
    "# set print precision\n",
    "np.set_printoptions(precision=5, suppress=True)\n",
    "pd.set_option('display.float_format', lambda x: '%.5f' % x)\n",
    "\n",
    "\n"
   ]
  },
  {
   "cell_type": "code",
   "execution_count": 6,
   "metadata": {},
   "outputs": [
    {
     "data": {
      "text/html": [
       "<div>\n",
       "<style scoped>\n",
       "    .dataframe tbody tr th:only-of-type {\n",
       "        vertical-align: middle;\n",
       "    }\n",
       "\n",
       "    .dataframe tbody tr th {\n",
       "        vertical-align: top;\n",
       "    }\n",
       "\n",
       "    .dataframe thead th {\n",
       "        text-align: right;\n",
       "    }\n",
       "</style>\n",
       "<table border=\"1\" class=\"dataframe\">\n",
       "  <thead>\n",
       "    <tr style=\"text-align: right;\">\n",
       "      <th></th>\n",
       "      <th>category</th>\n",
       "      <th>rating</th>\n",
       "      <th>reviews</th>\n",
       "      <th>installs</th>\n",
       "      <th>type</th>\n",
       "      <th>price</th>\n",
       "      <th>content_rating</th>\n",
       "      <th>app_size</th>\n",
       "      <th>last_updated_encoded</th>\n",
       "    </tr>\n",
       "  </thead>\n",
       "  <tbody>\n",
       "    <tr>\n",
       "      <th>0</th>\n",
       "      <td>Business</td>\n",
       "      <td>4.3</td>\n",
       "      <td>171771</td>\n",
       "      <td>10000000</td>\n",
       "      <td>Free</td>\n",
       "      <td>0.0</td>\n",
       "      <td>Everyone</td>\n",
       "      <td>3.200000</td>\n",
       "      <td>2936</td>\n",
       "    </tr>\n",
       "    <tr>\n",
       "      <th>1</th>\n",
       "      <td>Tools</td>\n",
       "      <td>4.1</td>\n",
       "      <td>981</td>\n",
       "      <td>100000</td>\n",
       "      <td>Free</td>\n",
       "      <td>0.0</td>\n",
       "      <td>Everyone</td>\n",
       "      <td>0.071289</td>\n",
       "      <td>439</td>\n",
       "    </tr>\n",
       "    <tr>\n",
       "      <th>2</th>\n",
       "      <td>Family</td>\n",
       "      <td>4.3</td>\n",
       "      <td>109</td>\n",
       "      <td>5000</td>\n",
       "      <td>Free</td>\n",
       "      <td>0.0</td>\n",
       "      <td>Everyone</td>\n",
       "      <td>2.700000</td>\n",
       "      <td>2731</td>\n",
       "    </tr>\n",
       "    <tr>\n",
       "      <th>3</th>\n",
       "      <td>Family</td>\n",
       "      <td>4.3</td>\n",
       "      <td>21</td>\n",
       "      <td>1000</td>\n",
       "      <td>Free</td>\n",
       "      <td>0.0</td>\n",
       "      <td>Everyone</td>\n",
       "      <td>2.500000</td>\n",
       "      <td>2941</td>\n",
       "    </tr>\n",
       "    <tr>\n",
       "      <th>4</th>\n",
       "      <td>Libraries_And_Demo</td>\n",
       "      <td>4.3</td>\n",
       "      <td>332083</td>\n",
       "      <td>10000000</td>\n",
       "      <td>Free</td>\n",
       "      <td>0.0</td>\n",
       "      <td>Everyone</td>\n",
       "      <td>6.300000</td>\n",
       "      <td>3034</td>\n",
       "    </tr>\n",
       "  </tbody>\n",
       "</table>\n",
       "</div>"
      ],
      "text/plain": [
       "             category  rating  reviews  installs  type  price content_rating  \\\n",
       "0            Business     4.3   171771  10000000  Free    0.0       Everyone   \n",
       "1               Tools     4.1      981    100000  Free    0.0       Everyone   \n",
       "2              Family     4.3      109      5000  Free    0.0       Everyone   \n",
       "3              Family     4.3       21      1000  Free    0.0       Everyone   \n",
       "4  Libraries_And_Demo     4.3   332083  10000000  Free    0.0       Everyone   \n",
       "\n",
       "   app_size  last_updated_encoded  \n",
       "0  3.200000                  2936  \n",
       "1  0.071289                   439  \n",
       "2  2.700000                  2731  \n",
       "3  2.500000                  2941  \n",
       "4  6.300000                  3034  "
      ]
     },
     "execution_count": 6,
     "metadata": {},
     "output_type": "execute_result"
    }
   ],
   "source": [
    "# load train data to build model\n",
    "df = pd.read_csv('data/train.csv')\n",
    "df.head()"
   ]
  },
  {
   "cell_type": "markdown",
   "metadata": {},
   "source": [
    "# Data Exploration\n",
    "* Categorical, bar charts - Amee \n",
    "* Histograms - Flora\n",
    "* Scatter plots matrix of all numeric variables - Sandy\n",
    "* Correlation analysis for numeric variables (heatmap)  - Sandy \n"
   ]
  },
  {
   "cell_type": "markdown",
   "metadata": {},
   "source": [
    "# Initial model fit with all variables"
   ]
  },
  {
   "cell_type": "code",
   "execution_count": 17,
   "metadata": {},
   "outputs": [],
   "source": [
    "# regress rating against all other variables\n",
    "ystr = 'rating'\n",
    "xstr = '+'.join([col for col in df.columns if col != ystr])\n",
    "\n",
    "# build initial ols model \n",
    "model = smf.ols(f'{ystr}~{xstr}', data=df).fit()\n",
    "\n",
    "# print(model.summary())"
   ]
  },
  {
   "cell_type": "markdown",
   "metadata": {},
   "source": [
    "# ANOVA"
   ]
  },
  {
   "cell_type": "code",
   "execution_count": 40,
   "metadata": {},
   "outputs": [
    {
     "name": "stdout",
     "output_type": "stream",
     "text": [
      "~~~~~~~ Partial ANOVA ~~~~~~~\n",
      "                             df     sum_sq  mean_sq         F  PR(>F)\n",
      "category               32.00000   58.57447  1.83045   6.20283 0.00000\n",
      "type                    1.00000    1.48364  1.48364   5.02760 0.02499\n",
      "content_rating          5.00000    1.65630  0.33126   1.12254 0.34589\n",
      "reviews                 1.00000    6.61363  6.61363  22.41152 0.00000\n",
      "installs                1.00000    0.23373  0.23373   0.79205 0.37352\n",
      "price                   1.00000    0.73689  0.73689   2.49708 0.11411\n",
      "app_size                1.00000    1.42234  1.42234   4.81986 0.02817\n",
      "last_updated_encoded    1.00000   35.39224 35.39224 119.93326 0.00000\n",
      "Residual             5579.00000 1646.35997  0.29510       nan     nan\n",
      "\n",
      "~~~~~~~ Sequential ANOVA ~~~~~~~\n",
      "                             df     sum_sq  mean_sq         F  PR(>F)\n",
      "category               32.00000   58.57447  1.83045   6.20283 0.00000\n",
      "type                    1.00000    1.48364  1.48364   5.02760 0.02499\n",
      "content_rating          5.00000    1.65630  0.33126   1.12254 0.34589\n",
      "reviews                 1.00000    6.61363  6.61363  22.41152 0.00000\n",
      "installs                1.00000    0.23373  0.23373   0.79205 0.37352\n",
      "price                   1.00000    0.73689  0.73689   2.49708 0.11411\n",
      "app_size                1.00000    1.42234  1.42234   4.81986 0.02817\n",
      "last_updated_encoded    1.00000   35.39224 35.39224 119.93326 0.00000\n",
      "Residual             5579.00000 1646.35997  0.29510       nan     nan\n"
     ]
    }
   ],
   "source": [
    "partial = sa.anova_lm(model, type=2)\n",
    "seq = sa.anova_lm(model, type=1)\n",
    "\n",
    "print('~~~~~~~ Partial ANOVA ~~~~~~~')\n",
    "print(partial)\n",
    "\n",
    "print('\\n~~~~~~~ Sequential ANOVA ~~~~~~~')\n",
    "print(seq)"
   ]
  }
 ],
 "metadata": {
  "kernelspec": {
   "display_name": "Python 3",
   "language": "python",
   "name": "python3"
  },
  "language_info": {
   "codemirror_mode": {
    "name": "ipython",
    "version": 3
   },
   "file_extension": ".py",
   "mimetype": "text/x-python",
   "name": "python",
   "nbconvert_exporter": "python",
   "pygments_lexer": "ipython3",
   "version": "3.8.3"
  }
 },
 "nbformat": 4,
 "nbformat_minor": 4
}
