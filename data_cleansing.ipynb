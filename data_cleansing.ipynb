{
  "nbformat": 4,
  "nbformat_minor": 0,
  "metadata": {
    "colab": {
      "name": "data-cleansing",
      "provenance": [],
      "collapsed_sections": []
    },
    "kernelspec": {
      "name": "python3",
      "display_name": "Python 3"
    }
  },
  "cells": [
    {
      "cell_type": "code",
      "metadata": {
        "id": "WHV5Qm6AFR9Z"
      },
      "source": [
        "import pandas as pd\n",
        "import numpy as np\n",
        "from matplotlib import pyplot as plt\n"
      ],
      "execution_count": 266,
      "outputs": []
    },
    {
      "cell_type": "code",
      "metadata": {
        "id": "Zz3obh1BF2VD"
      },
      "source": [
        "# import and drop duplicate\n",
        "df = pd.read_csv('googleplaystore.csv', ).drop_duplicates()\n",
        "\n",
        "# rename columns to lower case, underscored space\n",
        "df.columns = [col.lower().replace(' ', '_') for col in df.columns]\n",
        "\n",
        "# drop version columns, won't be needed in regression\n",
        "df = df.iloc[:, :-2]"
      ],
      "execution_count": 267,
      "outputs": []
    },
    {
      "cell_type": "code",
      "metadata": {
        "colab": {
          "base_uri": "https://localhost:8080/",
          "height": 390
        },
        "id": "CJ-L9MNAgMW-",
        "outputId": "dfe12f43-f51b-46be-fad3-e37d1afafb74"
      },
      "source": [
        "df.head(1).T"
      ],
      "execution_count": 268,
      "outputs": [
        {
          "output_type": "execute_result",
          "data": {
            "text/html": [
              "<div>\n",
              "<style scoped>\n",
              "    .dataframe tbody tr th:only-of-type {\n",
              "        vertical-align: middle;\n",
              "    }\n",
              "\n",
              "    .dataframe tbody tr th {\n",
              "        vertical-align: top;\n",
              "    }\n",
              "\n",
              "    .dataframe thead th {\n",
              "        text-align: right;\n",
              "    }\n",
              "</style>\n",
              "<table border=\"1\" class=\"dataframe\">\n",
              "  <thead>\n",
              "    <tr style=\"text-align: right;\">\n",
              "      <th></th>\n",
              "      <th>0</th>\n",
              "    </tr>\n",
              "  </thead>\n",
              "  <tbody>\n",
              "    <tr>\n",
              "      <th>app</th>\n",
              "      <td>Photo Editor &amp; Candy Camera &amp; Grid &amp; ScrapBook</td>\n",
              "    </tr>\n",
              "    <tr>\n",
              "      <th>category</th>\n",
              "      <td>ART_AND_DESIGN</td>\n",
              "    </tr>\n",
              "    <tr>\n",
              "      <th>rating</th>\n",
              "      <td>4.1</td>\n",
              "    </tr>\n",
              "    <tr>\n",
              "      <th>reviews</th>\n",
              "      <td>159</td>\n",
              "    </tr>\n",
              "    <tr>\n",
              "      <th>size</th>\n",
              "      <td>19M</td>\n",
              "    </tr>\n",
              "    <tr>\n",
              "      <th>installs</th>\n",
              "      <td>10,000+</td>\n",
              "    </tr>\n",
              "    <tr>\n",
              "      <th>type</th>\n",
              "      <td>Free</td>\n",
              "    </tr>\n",
              "    <tr>\n",
              "      <th>price</th>\n",
              "      <td>0</td>\n",
              "    </tr>\n",
              "    <tr>\n",
              "      <th>content_rating</th>\n",
              "      <td>Everyone</td>\n",
              "    </tr>\n",
              "    <tr>\n",
              "      <th>genres</th>\n",
              "      <td>Art &amp; Design</td>\n",
              "    </tr>\n",
              "    <tr>\n",
              "      <th>last_updated</th>\n",
              "      <td>January 7, 2018</td>\n",
              "    </tr>\n",
              "  </tbody>\n",
              "</table>\n",
              "</div>"
            ],
            "text/plain": [
              "                                                             0\n",
              "app             Photo Editor & Candy Camera & Grid & ScrapBook\n",
              "category                                        ART_AND_DESIGN\n",
              "rating                                                     4.1\n",
              "reviews                                                    159\n",
              "size                                                       19M\n",
              "installs                                               10,000+\n",
              "type                                                      Free\n",
              "price                                                        0\n",
              "content_rating                                        Everyone\n",
              "genres                                            Art & Design\n",
              "last_updated                                   January 7, 2018"
            ]
          },
          "metadata": {
            "tags": []
          },
          "execution_count": 268
        }
      ]
    },
    {
      "cell_type": "code",
      "metadata": {
        "id": "FznqbjkVm00n"
      },
      "source": [
        "# find any null rows\n",
        "null_cols = df.isna().any()[df.isna().any().values] # just drop them\n",
        "\n",
        "# drop null rows\n",
        "df = df.dropna()"
      ],
      "execution_count": 269,
      "outputs": []
    },
    {
      "cell_type": "code",
      "metadata": {
        "colab": {
          "base_uri": "https://localhost:8080/"
        },
        "id": "X4OXBGkcjTQ_",
        "outputId": "9307a967-6838-4e10-e44a-5e6ec085285d"
      },
      "source": [
        "# clean column App, remove duplicates\n",
        "dup_apps = df.app.value_counts()[df.app.value_counts() > 1].index\n",
        "print('Duplicate app names: ', dup_apps)\n",
        "df = df.sort_values(by='last_updated').drop_duplicates('app', keep='last')"
      ],
      "execution_count": 270,
      "outputs": [
        {
          "output_type": "stream",
          "text": [
            "Duplicate app names:  Index(['ROBLOX', '8 Ball Pool', 'Bubble Shooter', 'Zombie Catchers',\n",
            "       'Helix Jump', 'Granny', 'Farm Heroes Saga', 'Subway Surfers',\n",
            "       'Bowmasters', 'Duolingo: Learn Languages Free',\n",
            "       ...\n",
            "       'Facebook Pages Manager', 'Dunkin' Donuts',\n",
            "       'Fuzzy Numbers: Pre-K Number Foundation',\n",
            "       'Blood Pressure Log - MyDiary',\n",
            "       'UC Browser - Fast Download Private & Secure',\n",
            "       'FotMob - Live Soccer Scores', 'MARVEL Contest of Champions',\n",
            "       'Adobe Photoshop Express:Photo Editor Collage Maker',\n",
            "       'Cricbuzz - Live Cricket Scores & News',\n",
            "       'InstaSize Photo Filters & Collage Editor'],\n",
            "      dtype='object', length=521)\n"
          ],
          "name": "stdout"
        }
      ]
    },
    {
      "cell_type": "code",
      "metadata": {
        "id": "CDVNB6LrgRZ3"
      },
      "source": [
        "# standardize size column and conver to float\n",
        "e\n",
        "def covert2mb(val):\n",
        "  val = val.lower()\n",
        "  unit = val[-1]\n",
        "  if 'm' == unit:\n",
        "    return float(val.replace('m',''))\n",
        "  elif 'k' == unit:\n",
        "    return float(val.replace('k','')) / 1024\n",
        "  else:\n",
        "    return 0  # to be removed from df\n",
        "\n",
        "df['app_size'] = df['size'].apply(covert2mb)\n"
      ],
      "execution_count": 271,
      "outputs": []
    },
    {
      "cell_type": "code",
      "metadata": {
        "id": "RyJ7peJI6YRY"
      },
      "source": [
        "# remove size 'varies by device'\n",
        "df = df[df['app_size']>0]\n",
        "# drop size column\n",
        "df = df.drop(columns='size')"
      ],
      "execution_count": 278,
      "outputs": []
    },
    {
      "cell_type": "code",
      "metadata": {
        "id": "ow3vhKgMF4mb"
      },
      "source": [
        "# convert installs from interval to integer\n",
        "df.installs = df.installs.str.replace('[\\,|\\+]+', '').astype('int')"
      ],
      "execution_count": null,
      "outputs": []
    },
    {
      "cell_type": "code",
      "metadata": {
        "id": "amLvdgkkGtqR"
      },
      "source": [
        "# convert price to float\n",
        "df[df.price != '0'].price.value_counts()\n",
        "df['price'] = df.price.str.replace('$','').astype(float)"
      ],
      "execution_count": 305,
      "outputs": []
    },
    {
      "cell_type": "code",
      "metadata": {
        "id": "7IiBP4f7ItQp"
      },
      "source": [
        "# clean cateogry\n",
        "df.category.value_counts()\n",
        "df.genres.value_counts().head(50)\n",
        "\n",
        "df['category'] = df['category'].str.title()\n"
      ],
      "execution_count": 325,
      "outputs": []
    },
    {
      "cell_type": "code",
      "metadata": {
        "id": "h7YQLBFUMak_"
      },
      "source": [
        "# encode last_updated date to number\n",
        "\n",
        "from datetime import datetime\n",
        "\n",
        "df['last_updated'] = pd.to_datetime(df.last_updated)\n",
        "def date2num(val):\n",
        "  start = datetime(2010,1,1)\n",
        "  diff = val - start\n",
        "  return diff.days\n",
        "\n",
        "df['last_updated_encoded'] = df.last_updated.apply(date2num)\n"
      ],
      "execution_count": 338,
      "outputs": []
    },
    {
      "cell_type": "code",
      "metadata": {
        "id": "8bHY6EpyNPgh"
      },
      "source": [
        "df.last_updated_encoded.describe()\n",
        "df = df.drop(columns='last_updated')"
      ],
      "execution_count": 341,
      "outputs": []
    },
    {
      "cell_type": "code",
      "metadata": {
        "id": "-XwPrRqZOxY1"
      },
      "source": [
        "# drop genre and name because too many categories\n",
        "df = df.drop(columns=['app', 'genres'])"
      ],
      "execution_count": 343,
      "outputs": []
    },
    {
      "cell_type": "code",
      "metadata": {
        "colab": {
          "base_uri": "https://localhost:8080/",
          "height": 204
        },
        "id": "NRMSHRFGRIrB",
        "outputId": "fa3cbaab-a5cf-4215-e20e-e16a05858a1d"
      },
      "source": [
        "df.head()"
      ],
      "execution_count": 345,
      "outputs": [
        {
          "output_type": "execute_result",
          "data": {
            "text/html": [
              "<div>\n",
              "<style scoped>\n",
              "    .dataframe tbody tr th:only-of-type {\n",
              "        vertical-align: middle;\n",
              "    }\n",
              "\n",
              "    .dataframe tbody tr th {\n",
              "        vertical-align: top;\n",
              "    }\n",
              "\n",
              "    .dataframe thead th {\n",
              "        text-align: right;\n",
              "    }\n",
              "</style>\n",
              "<table border=\"1\" class=\"dataframe\">\n",
              "  <thead>\n",
              "    <tr style=\"text-align: right;\">\n",
              "      <th></th>\n",
              "      <th>category</th>\n",
              "      <th>rating</th>\n",
              "      <th>reviews</th>\n",
              "      <th>installs</th>\n",
              "      <th>type</th>\n",
              "      <th>price</th>\n",
              "      <th>content_rating</th>\n",
              "      <th>app_size</th>\n",
              "      <th>last_updated_encoded</th>\n",
              "    </tr>\n",
              "  </thead>\n",
              "  <tbody>\n",
              "    <tr>\n",
              "      <th>9116</th>\n",
              "      <td>Health_And_Fitness</td>\n",
              "      <td>4.1</td>\n",
              "      <td>131</td>\n",
              "      <td>5000</td>\n",
              "      <td>Free</td>\n",
              "      <td>0.0</td>\n",
              "      <td>Everyone</td>\n",
              "      <td>3.4</td>\n",
              "      <td>2282</td>\n",
              "    </tr>\n",
              "    <tr>\n",
              "      <th>3304</th>\n",
              "      <td>Tools</td>\n",
              "      <td>3.9</td>\n",
              "      <td>12388</td>\n",
              "      <td>1000000</td>\n",
              "      <td>Free</td>\n",
              "      <td>0.0</td>\n",
              "      <td>Everyone</td>\n",
              "      <td>5.3</td>\n",
              "      <td>2282</td>\n",
              "    </tr>\n",
              "    <tr>\n",
              "      <th>8901</th>\n",
              "      <td>Communication</td>\n",
              "      <td>4.3</td>\n",
              "      <td>1133539</td>\n",
              "      <td>10000000</td>\n",
              "      <td>Free</td>\n",
              "      <td>0.0</td>\n",
              "      <td>Everyone</td>\n",
              "      <td>4.7</td>\n",
              "      <td>2282</td>\n",
              "    </tr>\n",
              "    <tr>\n",
              "      <th>10589</th>\n",
              "      <td>Travel_And_Local</td>\n",
              "      <td>4.3</td>\n",
              "      <td>100</td>\n",
              "      <td>5000</td>\n",
              "      <td>Free</td>\n",
              "      <td>0.0</td>\n",
              "      <td>Everyone</td>\n",
              "      <td>13.0</td>\n",
              "      <td>2647</td>\n",
              "    </tr>\n",
              "    <tr>\n",
              "      <th>7834</th>\n",
              "      <td>Game</td>\n",
              "      <td>4.3</td>\n",
              "      <td>8668</td>\n",
              "      <td>500000</td>\n",
              "      <td>Free</td>\n",
              "      <td>0.0</td>\n",
              "      <td>Teen</td>\n",
              "      <td>9.1</td>\n",
              "      <td>2647</td>\n",
              "    </tr>\n",
              "  </tbody>\n",
              "</table>\n",
              "</div>"
            ],
            "text/plain": [
              "                 category  rating  ... app_size  last_updated_encoded\n",
              "9116   Health_And_Fitness     4.1  ...      3.4                  2282\n",
              "3304                Tools     3.9  ...      5.3                  2282\n",
              "8901        Communication     4.3  ...      4.7                  2282\n",
              "10589    Travel_And_Local     4.3  ...     13.0                  2647\n",
              "7834                 Game     4.3  ...      9.1                  2647\n",
              "\n",
              "[5 rows x 9 columns]"
            ]
          },
          "metadata": {
            "tags": []
          },
          "execution_count": 345
        }
      ]
    },
    {
      "cell_type": "code",
      "metadata": {
        "id": "SSOzbDXzQpYs"
      },
      "source": [
        "from sklearn.model_selection import train_test_split\n",
        "\n",
        "train, test = train_test_split(df, test_size=0.2)\n",
        "train.to_csv('train.csv', index=False)\n",
        "test.to_csv('test.csv', index=False)"
      ],
      "execution_count": 348,
      "outputs": []
    }
  ]
}