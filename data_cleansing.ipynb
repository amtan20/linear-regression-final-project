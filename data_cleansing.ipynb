{
 "cells": [
  {
   "cell_type": "code",
   "execution_count": 74,
   "metadata": {
    "id": "WHV5Qm6AFR9Z"
   },
   "outputs": [],
   "source": [
    "import pandas as pd\n",
    "import numpy as np\n",
    "from matplotlib import pyplot as plt\n"
   ]
  },
  {
   "cell_type": "code",
   "execution_count": 75,
   "metadata": {
    "id": "Zz3obh1BF2VD"
   },
   "outputs": [],
   "source": [
    "# import and drop duplicate\n",
    "df = pd.read_csv('data/googleplaystore.csv', ).drop_duplicates()\n",
    "\n",
    "# rename columns to lower case, underscored space\n",
    "df.columns = [col.lower().replace(' ', '_') for col in df.columns]\n",
    "\n",
    "# drop version columns, won't be needed in regression\n",
    "df = df.iloc[:, :-2]"
   ]
  },
  {
   "cell_type": "code",
   "execution_count": 76,
   "metadata": {
    "colab": {
     "base_uri": "https://localhost:8080/",
     "height": 390
    },
    "id": "CJ-L9MNAgMW-",
    "outputId": "dfe12f43-f51b-46be-fad3-e37d1afafb74"
   },
   "outputs": [
    {
     "data": {
      "text/html": [
       "<div>\n",
       "<style scoped>\n",
       "    .dataframe tbody tr th:only-of-type {\n",
       "        vertical-align: middle;\n",
       "    }\n",
       "\n",
       "    .dataframe tbody tr th {\n",
       "        vertical-align: top;\n",
       "    }\n",
       "\n",
       "    .dataframe thead th {\n",
       "        text-align: right;\n",
       "    }\n",
       "</style>\n",
       "<table border=\"1\" class=\"dataframe\">\n",
       "  <thead>\n",
       "    <tr style=\"text-align: right;\">\n",
       "      <th></th>\n",
       "      <th>0</th>\n",
       "    </tr>\n",
       "  </thead>\n",
       "  <tbody>\n",
       "    <tr>\n",
       "      <th>app</th>\n",
       "      <td>Photo Editor &amp; Candy Camera &amp; Grid &amp; ScrapBook</td>\n",
       "    </tr>\n",
       "    <tr>\n",
       "      <th>category</th>\n",
       "      <td>ART_AND_DESIGN</td>\n",
       "    </tr>\n",
       "    <tr>\n",
       "      <th>rating</th>\n",
       "      <td>4.1</td>\n",
       "    </tr>\n",
       "    <tr>\n",
       "      <th>reviews</th>\n",
       "      <td>159</td>\n",
       "    </tr>\n",
       "    <tr>\n",
       "      <th>size</th>\n",
       "      <td>19M</td>\n",
       "    </tr>\n",
       "    <tr>\n",
       "      <th>installs</th>\n",
       "      <td>10,000+</td>\n",
       "    </tr>\n",
       "    <tr>\n",
       "      <th>type</th>\n",
       "      <td>Free</td>\n",
       "    </tr>\n",
       "    <tr>\n",
       "      <th>price</th>\n",
       "      <td>0</td>\n",
       "    </tr>\n",
       "    <tr>\n",
       "      <th>content_rating</th>\n",
       "      <td>Everyone</td>\n",
       "    </tr>\n",
       "    <tr>\n",
       "      <th>genres</th>\n",
       "      <td>Art &amp; Design</td>\n",
       "    </tr>\n",
       "    <tr>\n",
       "      <th>last_updated</th>\n",
       "      <td>January 7, 2018</td>\n",
       "    </tr>\n",
       "  </tbody>\n",
       "</table>\n",
       "</div>"
      ],
      "text/plain": [
       "                                                             0\n",
       "app             Photo Editor & Candy Camera & Grid & ScrapBook\n",
       "category                                        ART_AND_DESIGN\n",
       "rating                                                     4.1\n",
       "reviews                                                    159\n",
       "size                                                       19M\n",
       "installs                                               10,000+\n",
       "type                                                      Free\n",
       "price                                                        0\n",
       "content_rating                                        Everyone\n",
       "genres                                            Art & Design\n",
       "last_updated                                   January 7, 2018"
      ]
     },
     "execution_count": 76,
     "metadata": {},
     "output_type": "execute_result"
    }
   ],
   "source": [
    "df.head(1).T"
   ]
  },
  {
   "cell_type": "code",
   "execution_count": 77,
   "metadata": {
    "id": "FznqbjkVm00n"
   },
   "outputs": [],
   "source": [
    "# find any null rows\n",
    "null_cols = df.isna().any()[df.isna().any().values] # just drop them\n",
    "\n",
    "# drop null rows\n",
    "df = df.dropna()"
   ]
  },
  {
   "cell_type": "code",
   "execution_count": 78,
   "metadata": {
    "colab": {
     "base_uri": "https://localhost:8080/"
    },
    "id": "X4OXBGkcjTQ_",
    "outputId": "9307a967-6838-4e10-e44a-5e6ec085285d"
   },
   "outputs": [
    {
     "name": "stdout",
     "output_type": "stream",
     "text": [
      "Duplicate app names:  Index(['ROBLOX', '8 Ball Pool', 'Zombie Catchers', 'Helix Jump',\n",
      "       'Bubble Shooter', 'Candy Crush Saga', 'Angry Birds Classic',\n",
      "       'Subway Surfers', 'slither.io', 'Bowmasters',\n",
      "       ...\n",
      "       'letgo: Buy & Sell Used Stuff, Cars & Real Estate',\n",
      "       'Zomato - Restaurant Finder and Food Delivery App',\n",
      "       'Crunchyroll - Everything Anime', 'G Cloud Backup',\n",
      "       'OfficeSuite : Free Office + PDF Editor', 'Flashlight',\n",
      "       'Just She - Top Lesbian Dating',\n",
      "       'Groupon - Shop Deals, Discounts & Coupons',\n",
      "       'Mapy.cz - Cycling & Hiking offline maps',\n",
      "       'AccuWeather: Daily Forecast & Live Weather Reports'],\n",
      "      dtype='object', length=521)\n"
     ]
    }
   ],
   "source": [
    "# clean column App, remove duplicates\n",
    "dup_apps = df.app.value_counts()[df.app.value_counts() > 1].index\n",
    "print('Duplicate app names: ', dup_apps)\n",
    "df = df.sort_values(by='last_updated').drop_duplicates('app', keep='last')"
   ]
  },
  {
   "cell_type": "code",
   "execution_count": 79,
   "metadata": {
    "id": "CDVNB6LrgRZ3"
   },
   "outputs": [],
   "source": [
    "# standardize size column and conver to float\n",
    "\n",
    "def covert2mb(val):\n",
    "    val = val.lower()\n",
    "    unit = val[-1]\n",
    "    if 'm' == unit:\n",
    "        return float(val.replace('m',''))\n",
    "    elif 'k' == unit:\n",
    "        return float(val.replace('k','')) / 1024\n",
    "    else:\n",
    "        return 0  # to be removed from df\n",
    "\n",
    "df['app_size'] = df['size'].apply(covert2mb)\n"
   ]
  },
  {
   "cell_type": "code",
   "execution_count": 80,
   "metadata": {
    "id": "RyJ7peJI6YRY"
   },
   "outputs": [],
   "source": [
    "# remove size 'varies by device'\n",
    "df = df[df['app_size']>0]\n",
    "# drop size column\n",
    "df = df.drop(columns='size')"
   ]
  },
  {
   "cell_type": "code",
   "execution_count": 81,
   "metadata": {
    "id": "ow3vhKgMF4mb"
   },
   "outputs": [],
   "source": [
    "# convert installs from interval to integer\n",
    "df.installs = df.installs.str.replace('[\\,|\\+]+', '').astype('int')"
   ]
  },
  {
   "cell_type": "code",
   "execution_count": 82,
   "metadata": {},
   "outputs": [],
   "source": [
    "# convert reviews to integer\n",
    "df.reviews = df.reviews.astype('int')"
   ]
  },
  {
   "cell_type": "code",
   "execution_count": 83,
   "metadata": {
    "id": "amLvdgkkGtqR"
   },
   "outputs": [],
   "source": [
    "# convert price to float\n",
    "df[df.price != '0'].price.value_counts()\n",
    "df['price'] = df.price.str.replace('$','').astype(float)"
   ]
  },
  {
   "cell_type": "code",
   "execution_count": 84,
   "metadata": {
    "id": "7IiBP4f7ItQp"
   },
   "outputs": [],
   "source": [
    "# clean cateogry\n",
    "df.category.value_counts()\n",
    "df.genres.value_counts().head(50)\n",
    "\n",
    "df['category'] = df['category'].str.title()\n"
   ]
  },
  {
   "cell_type": "code",
   "execution_count": 85,
   "metadata": {
    "id": "h7YQLBFUMak_"
   },
   "outputs": [],
   "source": [
    "# encode last_updated date to number\n",
    "\n",
    "from datetime import datetime\n",
    "\n",
    "df['last_updated'] = pd.to_datetime(df.last_updated)\n",
    "def date2num(val):\n",
    "  start = datetime(2010,1,1)\n",
    "  diff = val - start\n",
    "  return diff.days\n",
    "\n",
    "df['last_updated_encoded'] = df.last_updated.apply(date2num)\n"
   ]
  },
  {
   "cell_type": "code",
   "execution_count": 86,
   "metadata": {
    "id": "8bHY6EpyNPgh"
   },
   "outputs": [],
   "source": [
    "df.last_updated_encoded.describe()\n",
    "df = df.drop(columns='last_updated')"
   ]
  },
  {
   "cell_type": "code",
   "execution_count": 87,
   "metadata": {
    "id": "-XwPrRqZOxY1"
   },
   "outputs": [],
   "source": [
    "# drop genre and name because too many categories\n",
    "df = df.drop(columns=['app', 'genres'])"
   ]
  },
  {
   "cell_type": "code",
   "execution_count": 88,
   "metadata": {
    "colab": {
     "base_uri": "https://localhost:8080/",
     "height": 204
    },
    "id": "NRMSHRFGRIrB",
    "outputId": "fa3cbaab-a5cf-4215-e20e-e16a05858a1d"
   },
   "outputs": [],
   "source": [
    "# export initial data\n",
    "df.head()\n",
    "df.to_csv('data/data_initial.csv', index=False)"
   ]
  },
  {
   "cell_type": "code",
   "execution_count": null,
   "metadata": {},
   "outputs": [],
   "source": []
  },
  {
   "cell_type": "code",
   "execution_count": 89,
   "metadata": {},
   "outputs": [],
   "source": [
    "# log transform dataset\n",
    "df[['installs','reviews']] = np.log(df[['installs','reviews']])"
   ]
  },
  {
   "cell_type": "code",
   "execution_count": 90,
   "metadata": {},
   "outputs": [],
   "source": [
    "# lump categories together\n",
    "category_lump = {'Tools':[ 'Auto_And_Vehicles',  'Weather', 'Tools',  'Productivity', 'Personalization', 'Medical',  'Maps_And_Navigation',  'Libraries_And_Demo']\n",
    "           ,'Entertainment':['Video_Players', 'Sports', 'Photography', 'Entertainment',  'Game','Art_And_Design', 'Comics', 'Events']\n",
    "           ,'Lifestyle': ['Health_And_Fitness', 'Beauty','Travel_And_Local','Shopping','Lifestyle','Parenting','Food_And_Drink' ,'Family','House_And_Home',  'Libraries_And_Demo']\n",
    "           ,'Social':['Social','Dating', 'Communication']\n",
    "           ,'Education/Business':[ 'Books_And_Reference', 'Business', 'Education', 'News_And_Magazines','Finance']\n",
    "           }\n",
    "cat_assign = {cat: key for key, cat_ls in category_lump.items() for cat in cat_ls}\n",
    "\n",
    "df['category'] = df.category.apply(lambda x : cat_assign[x])"
   ]
  },
  {
   "cell_type": "code",
   "execution_count": 91,
   "metadata": {
    "id": "SSOzbDXzQpYs"
   },
   "outputs": [],
   "source": [
    "from sklearn.model_selection import train_test_split\n",
    "\n",
    "train, test = train_test_split(df, test_size=0.2,random_state=1)\n",
    "train.to_csv('data/train_alltype.csv', index=False)\n",
    "test.to_csv('data/test_alltype.csv', index=False)"
   ]
  },
  {
   "cell_type": "code",
   "execution_count": 92,
   "metadata": {},
   "outputs": [],
   "source": [
    "# filter data down to paid apps only\n",
    "paid = df[(df.type == 'Paid')].copy()\n",
    "\n",
    "#log transform price\n",
    "paid['price'] = np.log(paid['price'])\n",
    "\n",
    "train, test = train_test_split(paid, test_size=0.2,random_state=1)\n",
    "train.to_csv('data/train.csv', index=False)\n",
    "test.to_csv('data/test.csv', index=False)"
   ]
  },
  {
   "cell_type": "code",
   "execution_count": null,
   "metadata": {},
   "outputs": [],
   "source": []
  }
 ],
 "metadata": {
  "colab": {
   "collapsed_sections": [],
   "name": "data-cleansing",
   "provenance": []
  },
  "kernelspec": {
   "display_name": "Python 3",
   "language": "python",
   "name": "python3"
  },
  "language_info": {
   "codemirror_mode": {
    "name": "ipython",
    "version": 3
   },
   "file_extension": ".py",
   "mimetype": "text/x-python",
   "name": "python",
   "nbconvert_exporter": "python",
   "pygments_lexer": "ipython3",
   "version": "3.8.3"
  }
 },
 "nbformat": 4,
 "nbformat_minor": 4
}
